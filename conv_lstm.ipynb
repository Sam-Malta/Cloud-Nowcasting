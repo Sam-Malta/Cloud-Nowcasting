{
  "cells": [
    {
      "cell_type": "markdown",
      "metadata": {},
      "source": [
        "### Install Deps"
      ]
    },
    {
      "cell_type": "code",
      "execution_count": null,
      "metadata": {},
      "outputs": [],
      "source": [
        "# !pip install keras\n",
        "# !pip install numpy\n",
        "# !pip install tensorflow-gpu==2.10.0\n",
        "# !pip install imageio\n",
        "# !pip install tqdm"
      ]
    },
    {
      "cell_type": "code",
      "execution_count": null,
      "metadata": {},
      "outputs": [],
      "source": [
        "import numpy as np\n",
        "import torch\n",
        "import torch.nn as nn\n",
        "from torch.optim import Adam\n",
        "from Seq2Seq import Seq2Seq\n",
        "from torch.utils.data import DataLoader\n",
        "from tensorflow import keras\n",
        "\n",
        "import io\n",
        "import imageio\n",
        "from ipywidgets import widgets, HBox\n",
        "import wandb\n",
        "from scipy.ndimage import zoom\n",
        "from tqdm import tqdm\n",
        "# Use GPU if available\n",
        "\n",
        "print(torch.cuda.is_available())\n",
        "device = torch.device('cuda' if torch.cuda.is_available() else 'cpu')\n",
        "\n"
      ]
    },
    {
      "cell_type": "code",
      "execution_count": null,
      "metadata": {},
      "outputs": [],
      "source": [
        "# run = wandb.init(project='CloudNowcasting')"
      ]
    },
    {
      "cell_type": "markdown",
      "metadata": {},
      "source": [
        "## Get Data"
      ]
    },
    {
      "cell_type": "code",
      "execution_count": null,
      "metadata": {},
      "outputs": [],
      "source": [
        "def resize_image(image, new_shape):\n",
        "    ratio = [n / float(o) for n, o in zip(new_shape, image.shape)]\n",
        "    return zoom(image, ratio, mode='nearest')\n"
      ]
    },
    {
      "cell_type": "code",
      "execution_count": 4,
      "metadata": {},
      "outputs": [
        {
          "name": "stderr",
          "output_type": "stream",
          "text": [
            "100%|██████████| 718/718 [00:35<00:00, 20.06it/s]\n"
          ]
        }
      ],
      "source": [
        "# data_path2 = keras.utils.get_file(\n",
        "#     \"moving_mnist.npy\",\n",
        "#     \"http://www.cs.toronto.edu/~nitish/unsupervised_video/mnist_test_seq.npy\",\n",
        "# )\n",
        "data_path = \"2023-full.npy\"\n",
        "dataset = np.load(data_path)\n",
        "\n",
        "dataset_resized = []\n",
        "for i in tqdm(range(len(dataset))):\n",
        "    dataset_resized.append([])\n",
        "    for j in range(len(dataset[i])):\n",
        "        dataset_resized[i].append(resize_image(dataset[i][j], (64, 64)))\n",
        "\n",
        "dataset = np.array(dataset_resized)\n",
        "# dataset2 = np.load(data_path2).transpose(1, 0, 2, 3)\n",
        "                \n",
        "# Shuffle\n",
        "\n",
        "np.random.shuffle(dataset)\n",
        "\n",
        "train_data = dataset[:int(dataset.shape[0]*0.8)]\n",
        "test_data = dataset[int(dataset.shape[0]*0.2):]"
      ]
    },
    {
      "cell_type": "code",
      "execution_count": 5,
      "metadata": {},
      "outputs": [],
      "source": [
        "\n",
        "def collate(batch):\n",
        "\n",
        "    # Add channel dim, scale pixels between 0 and 1, send to GPU\n",
        "    batch = torch.tensor(batch).unsqueeze(1)     \n",
        "    batch = batch / 255.0                        \n",
        "    batch = batch.to(device)                     \n",
        "\n",
        "    # Randomly pick 10 frames as input, 11th frame is target\n",
        "    rand = np.random.randint(10,20)                     \n",
        "    return batch[:,:,rand-10:rand], batch[:,:,rand]     \n",
        "\n",
        "\n",
        "# Training Data Loader\n",
        "train_loader = DataLoader(train_data, shuffle=True, \n",
        "                        batch_size=16, collate_fn=collate)\n",
        "\n",
        "# Validation Data Loader\n",
        "test_loader = DataLoader(test_data, shuffle=True, \n",
        "                        batch_size=16, collate_fn=collate)"
      ]
    },
    {
      "cell_type": "code",
      "execution_count": 6,
      "metadata": {},
      "outputs": [
        {
          "name": "stderr",
          "output_type": "stream",
          "text": [
            "C:\\Users\\Sam\\AppData\\Local\\Temp\\ipykernel_19720\\1512710029.py:4: UserWarning: Creating a tensor from a list of numpy.ndarrays is extremely slow. Please consider converting the list to a single numpy.ndarray with numpy.array() before converting to a tensor. (Triggered internally at C:\\actions-runner\\_work\\pytorch\\pytorch\\builder\\windows\\pytorch\\torch\\csrc\\utils\\tensor_new.cpp:264.)\n",
            "  batch = torch.tensor(batch).unsqueeze(1)\n"
          ]
        },
        {
          "data": {
            "application/vnd.jupyter.widget-view+json": {
              "model_id": "566a95feff3742139db923715d506386",
              "version_major": 2,
              "version_minor": 0
            },
            "text/plain": [
              "HBox(children=(Image(value=b'GIF89a@\\x00@\\x00\\x87\\x00\\x00\\x00\\x00\\x00\\x01\\x01\\x01\\x02\\x02\\x02\\x03\\x03\\x03\\x04\\…"
            ]
          },
          "metadata": {},
          "output_type": "display_data"
        },
        {
          "data": {
            "application/vnd.jupyter.widget-view+json": {
              "model_id": "b500e01d59ef476ab37fad2c47ea04e9",
              "version_major": 2,
              "version_minor": 0
            },
            "text/plain": [
              "HBox(children=(Image(value=b'GIF89a@\\x00@\\x00\\x87\\x00\\x00\\x00\\x00\\x00\\x01\\x01\\x01\\x02\\x02\\x02\\x03\\x03\\x03\\x04\\…"
            ]
          },
          "metadata": {},
          "output_type": "display_data"
        },
        {
          "data": {
            "application/vnd.jupyter.widget-view+json": {
              "model_id": "c6e5f9492a2c4f5aa9c1b948510c1f09",
              "version_major": 2,
              "version_minor": 0
            },
            "text/plain": [
              "HBox(children=(Image(value=b'GIF89a@\\x00@\\x00\\x87\\x00\\x00\\x00\\x00\\x00\\x01\\x01\\x01\\x02\\x02\\x02\\x03\\x03\\x03\\x04\\…"
            ]
          },
          "metadata": {},
          "output_type": "display_data"
        }
      ],
      "source": [
        "# Get a batch\n",
        "input, _ = next(iter(test_loader))\n",
        "\n",
        "# Reverse process before displaying\n",
        "input = input.cpu().numpy() * 255.0     \n",
        "\n",
        "for video in input.squeeze(1)[:3]:          # Loop over videos\n",
        "    with io.BytesIO() as gif:\n",
        "        imageio.mimsave(gif,video.astype(np.uint8),\"GIF\",fps=5)\n",
        "        display(HBox([widgets.Image(value=gif.getvalue())]))"
      ]
    },
    {
      "cell_type": "code",
      "execution_count": 7,
      "metadata": {},
      "outputs": [],
      "source": [
        "# The input video frames are grayscale, thus single channel\n",
        "from torch.optim.lr_scheduler import StepLR\n",
        "model = Seq2Seq(num_channels=1, num_kernels=64, \n",
        "kernel_size=(3, 3), padding=(1, 1), activation=\"relu\", \n",
        "frame_size=(64, 64), num_layers=3).to(device)\n",
        "\n",
        "optim = Adam(model.parameters(), lr=1e-4)\n",
        "\n",
        "# Binary Cross Entropy, target pixel values either 0 or 1\n",
        "criterion = nn.BCELoss(reduction='sum')\n",
        "scheduler = StepLR(optim, step_size=10, gamma=0.1)"
      ]
    },
    {
      "cell_type": "code",
      "execution_count": 8,
      "metadata": {},
      "outputs": [],
      "source": [
        "torch.cuda.empty_cache()"
      ]
    },
    {
      "cell_type": "code",
      "execution_count": null,
      "metadata": {},
      "outputs": [],
      "source": [
        "num_epochs = 100\n",
        "patience = 7\n",
        "best_val_loss = float(\"inf\")\n",
        "epochs_without_improvement = 0\n",
        "\n",
        "for epoch in range(1, num_epochs+1):\n",
        "    \n",
        "    train_loss = 0                                                 \n",
        "    model.train()                                                  \n",
        "    for input, target in tqdm(train_loader):  \n",
        "        output = model(input)                                     \n",
        "        loss = criterion(output.flatten(), target.flatten())       \n",
        "        loss.backward()                                            \n",
        "        optim.step()                                               \n",
        "        optim.zero_grad()                                           \n",
        "        train_loss += loss.item()                                 \n",
        "    train_loss /= len(train_loader)                      \n",
        "\n",
        "    val_loss = 0                                                 \n",
        "    model.eval()                                                  \n",
        "    with torch.no_grad():                                          \n",
        "        for input, target in test_loader:                          \n",
        "            output = model(input)                                   \n",
        "            loss = criterion(output.flatten(), target.flatten())   \n",
        "            val_loss += loss.item()                                \n",
        "    val_loss /= len(test_loader)                           \n",
        "    scheduler.step()\n",
        "    if val_loss < best_val_loss:\n",
        "        best_val_loss = val_loss\n",
        "        torch.save(model.state_dict(), 'best_model.pt')\n",
        "        epochs_without_improvement = 0\n",
        "    else:\n",
        "        epochs_without_improvement += 1\n",
        "\n",
        "    # If the validation loss hasn't improved for 'patience' epochs, stop training\n",
        "    if epochs_without_improvement == patience:\n",
        "        print('Stopping early')\n",
        "        break\n",
        "\n",
        "    print(\"Epoch:{} Training Loss:{:.2f} Validation Loss:{:.2f}\\n\".format(\n",
        "        epoch, train_loss, val_loss))\n",
        "    # wandb.log({\"train_loss\": train_loss, \"val_loss\": val_loss})"
      ]
    },
    {
      "cell_type": "code",
      "execution_count": 21,
      "metadata": {},
      "outputs": [
        {
          "name": "stdout",
          "output_type": "stream",
          "text": [
            "0\n",
            "1\n",
            "2\n",
            "3\n",
            "4\n",
            "5\n",
            "6\n",
            "7\n",
            "8\n",
            "9\n",
            "Average accuracy: 0.7765869140625\n"
          ]
        }
      ],
      "source": [
        "from sklearn.metrics import accuracy_score\n",
        "import matplotlib.pyplot as plt\n",
        "def collate_test(batch):\n",
        "\n",
        "    # Last 10 frames are target\n",
        "    target = np.array(batch)[:,10:]                     \n",
        "    \n",
        "    # Add channel dim, scale pixels between 0 and 1, send to GPU\n",
        "    batch = torch.tensor(batch).unsqueeze(1)          \n",
        "    batch = batch / 255.0                             \n",
        "    batch = batch.to(device)                          \n",
        "    return batch, target\n",
        "\n",
        "# Test Data Loader\n",
        "test_loader = DataLoader(test_data,shuffle=True, \n",
        "                         batch_size=10, collate_fn=collate_test)\n",
        "\n",
        "# Get a batch\n",
        "batch, target = next(iter(test_loader))\n",
        "accuracy_list = []\n",
        "# Initialize output sequence\n",
        "output = np.zeros(target.shape, dtype=np.uint8)\n",
        "\n",
        "ground_truth = target[0]\n",
        "# Loop over timesteps\n",
        "\n",
        "correct = 0\n",
        "total = 0\n",
        "model.eval()  # Set the model to evaluation mode\n",
        "\n",
        "\n",
        "with torch.no_grad():\n",
        "    for timestep in range(target.shape[1]):\n",
        "        print(timestep)\n",
        "        input = batch[:,:,timestep:timestep+10]   \n",
        "        output[:,timestep]=(model(input).squeeze(1).cpu() > .5)*255.0\n",
        "        target[:,timestep] = (target[:,timestep] > .5) * 255\n",
        "        accuracy = accuracy_score(target[:,timestep].flatten(), output[:,timestep].flatten())\n",
        "        accuracy_list.append(accuracy)\n",
        "\n",
        "\n",
        "average_accuracy = sum(accuracy_list) / len(accuracy_list)\n",
        "print(f'Average accuracy: {average_accuracy}')"
      ]
    },
    {
      "cell_type": "code",
      "execution_count": 22,
      "metadata": {},
      "outputs": [
        {
          "data": {
            "image/png": "[encoded data removed]",
            "text/plain": [
              "<Figure size 1000x500 with 2 Axes>"
            ]
          },
          "metadata": {},
          "output_type": "display_data"
        }
      ],
      "source": [
        "fig, axs = plt.subplots(1, 2, figsize=(10, 5))\n",
        "# Display binary ground truth\n",
        "axs[0].imshow(ground_truth[0], cmap='gray')\n",
        "axs[0].set_title('Ground Truth displayed as Binary')\n",
        "\n",
        "# Display output\n",
        "axs[1].imshow(output[:,timestep][0], cmap='gray')\n",
        "axs[1].set_title('Output')\n",
        "plt.figtext(0.5, 0.01, f'Average Accuracy: {average_accuracy * 100:.2f}%', ha='center')\n",
        "\n",
        "plt.savefig(\"accuracydemonstration.png\")"
      ]
    },
    {
      "cell_type": "code",
      "execution_count": null,
      "metadata": {},
      "outputs": [],
      "source": [
        "from IPython.display import Image, display\n",
        "\n",
        "for i, (tgt, out) in enumerate(zip(target, output)):       # Loop over samples\n",
        "    \n",
        "    # Write target video as gif\n",
        "    with io.BytesIO() as gif:\n",
        "        imageio.mimsave(gif, tgt, \"GIF\", fps = 5)    \n",
        "        target_gif = gif.getvalue()\n",
        "\n",
        "    # Write output video as gif\n",
        "    with io.BytesIO() as gif:\n",
        "        imageio.mimsave(gif, out, \"GIF\", fps = 5)    \n",
        "        output_gif = gif.getvalue()\n",
        "\n",
        "    # Display the GIFs using IPython.display.Image\n",
        "    display(Image(data=target_gif))\n",
        "    display(Image(data=output_gif))"
      ]
    },
    {
      "cell_type": "code",
      "execution_count": null,
      "metadata": {},
      "outputs": [],
      "source": [
        "torch.save(model.state_dict(), \"c_model2.pth\")"
      ]
    },
    {
      "cell_type": "code",
      "execution_count": 17,
      "metadata": {},
      "outputs": [
        {
          "data": {
            "text/plain": [
              "<All keys matched successfully>"
            ]
          },
          "execution_count": 17,
          "metadata": {},
          "output_type": "execute_result"
        }
      ],
      "source": [
        "state_dict = torch.load('CloudModel64.pt')\n",
        "\n",
        "# Update the model's state dictionary\n",
        "model.load_state_dict(state_dict)"
      ]
    }
  ],
  "metadata": {
    "accelerator": "GPU",
    "colab": {
      "name": "conv_lstm",
      "provenance": [],
      "toc_visible": true
    },
    "kernelspec": {
      "display_name": "Python 3",
      "language": "python",
      "name": "python3"
    },
    "language_info": {
      "codemirror_mode": {
        "name": "ipython",
        "version": 3
      },
      "file_extension": ".py",
      "mimetype": "text/x-python",
      "name": "python",
      "nbconvert_exporter": "python",
      "pygments_lexer": "ipython3",
      "version": "3.8.18"
    }
  },
  "nbformat": 4,
  "nbformat_minor": 0
}
