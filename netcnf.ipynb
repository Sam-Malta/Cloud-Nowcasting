{
 "cells": [
  {
   "cell_type": "code",
   "execution_count": 1,
   "metadata": {},
   "outputs": [],
   "source": [
    "import matplotlib.pyplot as plt\n",
    "import netCDF4\n",
    "import numpy as np\n",
    "import os\n",
    "from tqdm import tqdm\n",
    "import cv2"
   ]
  },
  {
   "cell_type": "code",
   "execution_count": 2,
   "metadata": {},
   "outputs": [],
   "source": [
    "# from: https://www.star.nesdis.noaa.gov/atmospheric-composition-training/python_abi_lat_lon.php\n",
    "def calculate_degrees(file_id):\n",
    "    # Read in GOES ABI fixed grid projection variables and constants\n",
    "    x_coordinate_1d = file_id.variables['x'][:]  # E/W scanning angle in radians\n",
    "    y_coordinate_1d = file_id.variables['y'][:]  # N/S elevation angle in radians\n",
    "    projection_info = file_id.variables['goes_imager_projection']\n",
    "    lon_origin = projection_info.longitude_of_projection_origin\n",
    "    H = projection_info.perspective_point_height+projection_info.semi_major_axis\n",
    "    r_eq = projection_info.semi_major_axis\n",
    "    r_pol = projection_info.semi_minor_axis\n",
    "    \n",
    "    # Create 2D coordinate matrices from 1D coordinate vectors\n",
    "    x_coordinate_2d, y_coordinate_2d = np.meshgrid(x_coordinate_1d, y_coordinate_1d)\n",
    "    \n",
    "    # Equations to calculate latitude and longitude\n",
    "    lambda_0 = (lon_origin*np.pi)/180.0  \n",
    "    a_var = np.power(np.sin(x_coordinate_2d),2.0) + (np.power(np.cos(x_coordinate_2d),2.0)*(np.power(np.cos(y_coordinate_2d),2.0)+(((r_eq*r_eq)/(r_pol*r_pol))*np.power(np.sin(y_coordinate_2d),2.0))))\n",
    "    b_var = -2.0*H*np.cos(x_coordinate_2d)*np.cos(y_coordinate_2d)\n",
    "    c_var = (H**2.0)-(r_eq**2.0)\n",
    "    r_s = (-1.0*b_var - np.sqrt((b_var**2)-(4.0*a_var*c_var)))/(2.0*a_var)\n",
    "    s_x = r_s*np.cos(x_coordinate_2d)*np.cos(y_coordinate_2d)\n",
    "    s_y = - r_s*np.sin(x_coordinate_2d)\n",
    "    s_z = r_s*np.cos(x_coordinate_2d)*np.sin(y_coordinate_2d)\n",
    "    \n",
    "    # Ignore numpy errors for sqrt of negative number; occurs for GOES-16 ABI CONUS sector data\n",
    "    np.seterr(all='ignore')\n",
    "    \n",
    "    abi_lat = (180.0/np.pi)*(np.arctan(((r_eq*r_eq)/(r_pol*r_pol))*((s_z/np.sqrt(((H-s_x)*(H-s_x))+(s_y*s_y))))))\n",
    "    abi_lon = (lambda_0 - np.arctan(s_y/(H-s_x)))*(180.0/np.pi)\n",
    "    \n",
    "    return abi_lat, abi_lon\n"
   ]
  },
  {
   "cell_type": "code",
   "execution_count": 3,
   "metadata": {},
   "outputs": [],
   "source": [
    "pr_lon = [15, 20]\n",
    "pr_lat = [-70, -63]"
   ]
  },
  {
   "cell_type": "code",
   "execution_count": 4,
   "metadata": {},
   "outputs": [],
   "source": [
    "def get_pr_bounds(nc, vis=False):\n",
    "    long, lat = calculate_degrees(nc)\n",
    "    print(np.min(lat), np.max(lat))\n",
    "    long = np.array(long)\n",
    "    lat = np.array(lat)\n",
    "\n",
    "    lat_ind = np.where((lat > pr_lat[0]) & (lat < pr_lat[1]), 1, 0)\n",
    "    lat_bin = np.zeros_like(lat)\n",
    "    lat_bin[lat_ind == 1] = 1\n",
    "\n",
    "    long_ind = np.where((long > pr_lon[0]) & (long < pr_lon[1]), 1, 0)\n",
    "    long_bin = np.zeros_like(long)\n",
    "    long_bin[long_ind == 1] = 1 \n",
    "    \n",
    "    pr_bin = np.zeros_like(long)\n",
    "    pr_bin[(lat_ind == 1) & (long_ind == 1)] = 1\n",
    "\n",
    "    if vis:\n",
    "        #visualize data\n",
    "        plt.imshow(long, cmap='viridis')  # Adjust the colormap ('viridis', 'gray', 'jet', etc.) as needed\n",
    "        plt.title('Longitude')  # Set a title for the plot\n",
    "        plt.xlabel('X Image')\n",
    "        plt.ylabel('Y Image')\n",
    "        plt.show()\n",
    "\n",
    "        plt.imshow(pr_bin, cmap='viridis')  # Adjust the colormap ('viridis', 'gray', 'jet', etc.) as needed\n",
    "        plt.title('PR')  # Set a title for the plot\n",
    "        plt.xlabel('X Image')\n",
    "        plt.ylabel('Y Image')\n",
    "        plt.show()\n",
    "\n",
    "    min_y, max_y = np.where(pr_bin == 1)[0][0], np.where(pr_bin == 1)[0][-1]\n",
    "    min_x, max_x = np.where(pr_bin == 1)[1][0], np.where(pr_bin == 1)[1][-1]\n",
    "    return min_x, max_x, min_y, max_y\n",
    "\n",
    "\n",
    "def get_image(file_path, bounds):\n",
    "    nc = netCDF4.Dataset(file_path)\n",
    "\n",
    "    #print cloud pixel data\n",
    "    # print(nc.variables['geospatial_lat_lon_extent'])\n",
    "    # print(nc.variables.keys())\n",
    "    # #get longitude and latitude data for each pixel\n",
    "    # print(nc.variables['x'] * nc.variables['scale_factor_x'] + nc.variables['offset_x'])\n",
    "    # print(nc.variables['y'])\n",
    "    data = np.array(nc.variables['Cloud_Probabilities'])\n",
    "\n",
    "    if bounds:\n",
    "        min_x, max_x, min_y, max_y = bounds\n",
    "        data = data[min_y:min_y+255, min_x+100:min_x+355]\n",
    "    nc.close()\n",
    "\n",
    "\n",
    "    return data\n",
    "\n",
    "def show_data(img):\n",
    "    plt.imshow(img, cmap='viridis')  # Adjust the colormap ('viridis', 'gray', 'jet', etc.) as needed\n",
    "    plt.title('Daytime Cloud Pixels')  # Set a title for the plot\n",
    "    plt.xlabel('X Image')\n",
    "    plt.ylabel('Y Image')\n",
    "    plt.show()\n",
    "\n",
    "def create_mp4(imgs, filename):\n",
    "    v = cv2.VideoWriter(filename, cv2.VideoWriter_fourcc(*'mp4v'), fps=10, frameSize=(len(imgs[0][0]), len(imgs[0])), isColor=False)\n",
    "    for i in tqdm(range(len(imgs))):\n",
    "        v.write(imgs[i])#(imgs[i] / (2**8)).astype(np.uint8)\n",
    "    v.release()\n",
    "\n",
    "# get_long_lat('2023/001/00/OR_ABI-L2-ACMC-M6_G16_s20230010001173_e20230010003546_c20230010005038.nc')"
   ]
  },
  {
   "cell_type": "code",
   "execution_count": 5,
   "metadata": {},
   "outputs": [
    {
     "name": "stderr",
     "output_type": "stream",
     "text": [
      "100%|██████████| 50/50 [00:00<00:00, 1095.46it/s]\n",
      "100%|██████████| 1200/1200 [00:00<00:00, 2104.26it/s]\n",
      "C:\\Users\\Sam\\AppData\\Local\\Temp\\ipykernel_31196\\556323288.py:20: RuntimeWarning: invalid value encountered in sqrt\n",
      "  r_s = (-1.0*b_var - np.sqrt((b_var**2)-(4.0*a_var*c_var)))/(2.0*a_var)\n"
     ]
    },
    {
     "name": "stdout",
     "output_type": "stream",
     "text": [
      "-152.05498 -52.947044\n",
      "(2067, 2441, 1222, 1479)\n"
     ]
    },
    {
     "name": "stderr",
     "output_type": "stream",
     "text": [
      "100%|██████████| 14398/14398 [00:03<00:00, 4553.69it/s]\n"
     ]
    },
    {
     "name": "stdout",
     "output_type": "stream",
     "text": [
      "719\n",
      "(20, 255, 255)\n"
     ]
    }
   ],
   "source": [
    "data_folder = '2023/'\n",
    "\n",
    "#walk through the directory and get the file name\n",
    "file_paths = []\n",
    "sub_folders = [f.path for f in os.scandir(data_folder) if f.is_dir()]\n",
    "sub_sub_folders = []\n",
    "for folder in tqdm(sub_folders):\n",
    "    new_folders = [f.path for f in os.scandir(folder) if f.is_dir()]\n",
    "    sub_sub_folders.extend(new_folders)\n",
    "    \n",
    "for folder in tqdm(sub_sub_folders):\n",
    "    for f in os.scandir(folder):\n",
    "        if f.is_file() and f.name.endswith('.nc'):\n",
    "            file_paths.append(f.path)\n",
    "\n",
    "file_paths.sort()\n",
    "\n",
    "bounds = get_pr_bounds(netCDF4.Dataset(file_paths[0]), vis=False)\n",
    "print(bounds)\n",
    "imgs = []\n",
    "for path in tqdm(file_paths):\n",
    "    \n",
    "    imgs.append(get_image(path, bounds))\n",
    "    # imgs.append(np.ones((255, 255)))\n",
    "\n",
    "# Normalize values between 0-255\n",
    "imgs = np.array(imgs)\n",
    "imgs = imgs / 256  \n",
    "imgs = np.array(imgs, dtype=np.uint8)\n",
    "\n",
    "imgs = [imgs[i:i+20] for i in range(0, len(imgs), 20)]\n",
    "imgs = imgs[:-1]\n",
    "print(len(imgs))\n",
    "print(imgs[0].shape)"
   ]
  },
  {
   "cell_type": "code",
   "execution_count": 6,
   "metadata": {},
   "outputs": [],
   "source": [
    "def create_npy(imgs, filename):\n",
    "    np.save(filename, imgs)"
   ]
  },
  {
   "cell_type": "code",
   "execution_count": 7,
   "metadata": {},
   "outputs": [],
   "source": [
    "# create_mp4(imgs, '2023-full.mp4')"
   ]
  },
  {
   "cell_type": "code",
   "execution_count": 8,
   "metadata": {},
   "outputs": [],
   "source": [
    "create_npy(imgs, '2023-full.npy')"
   ]
  },
  {
   "cell_type": "code",
   "execution_count": 9,
   "metadata": {},
   "outputs": [],
   "source": [
    "imgs_npy = np.load('2023-full.npy')"
   ]
  }
 ],
 "metadata": {
  "kernelspec": {
   "display_name": "nasa",
   "language": "python",
   "name": "python3"
  },
  "language_info": {
   "codemirror_mode": {
    "name": "ipython",
    "version": 3
   },
   "file_extension": ".py",
   "mimetype": "text/x-python",
   "name": "python",
   "nbconvert_exporter": "python",
   "pygments_lexer": "ipython3",
   "version": "3.8.18"
  }
 },
 "nbformat": 4,
 "nbformat_minor": 2
}
